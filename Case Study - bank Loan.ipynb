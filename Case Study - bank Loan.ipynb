{
 "cells": [
  {
   "cell_type": "code",
   "execution_count": 66,
   "metadata": {},
   "outputs": [],
   "source": [
    "# Import Modules\n",
    "import numpy as np \n",
    "import pandas as pd\n",
    "from pandas_profiling import ProfileReport\n",
    " \n",
    "import matplotlib.pyplot as plt\n",
    "%matplotlib qt\n",
    "\n",
    "import seaborn as sns\n",
    "sns.set_style('dark')"
   ]
  },
  {
   "cell_type": "code",
   "execution_count": 74,
   "metadata": {},
   "outputs": [
    {
     "name": "stdout",
     "output_type": "stream",
     "text": [
      "      id  member_id  loan_amnt  funded_amnt  funded_amnt_inv        term  \\\n",
      "0  54734      80364      25000        25000       19080.0572   36 months   \n",
      "\n",
      "  int_rate  installment grade sub_grade  ... num_tl_90g_dpd_24m  \\\n",
      "0   11.89%        829.1     B        B4  ...                NaN   \n",
      "\n",
      "  num_tl_op_past_12m pct_tl_nvr_dlq  percent_bc_gt_75 pub_rec_bankruptcies  \\\n",
      "0                NaN            NaN               NaN                  0.0   \n",
      "\n",
      "  tax_liens tot_hi_cred_lim total_bal_ex_mort total_bc_limit  \\\n",
      "0       0.0             NaN               NaN            NaN   \n",
      "\n",
      "  total_il_high_credit_limit  \n",
      "0                        NaN  \n",
      "\n",
      "[1 rows x 111 columns]\n"
     ]
    },
    {
     "name": "stderr",
     "output_type": "stream",
     "text": [
      "C:\\Users\\AnandThirurangaruban\\AppData\\Local\\Temp\\ipykernel_34832\\2850910134.py:2: DtypeWarning: Columns (47) have mixed types. Specify dtype option on import or set low_memory=False.\n",
      "  df = pd.read_csv(file_path+'loan.csv')\n"
     ]
    }
   ],
   "source": [
    "file_path = 'C:\\\\Users\\\\AnandThirurangaruban\\\\Desktop\\\\PGPAIML\\\\Case Study\\\\'\n",
    "df = pd.read_csv(file_path+'loan.csv')\n",
    "#print(df.head(1))"
   ]
  },
  {
   "cell_type": "markdown",
   "metadata": {},
   "source": [
    "### Dataset Observation\n",
    "\n",
    "#### Observation: \n",
    "####  The dataset has 39717 rows and 111 variables \n",
    "####  The dataset has 13 integer, 74 float and  24 categorical variiables."
   ]
  },
  {
   "cell_type": "code",
   "execution_count": 69,
   "metadata": {},
   "outputs": [
    {
     "name": "stdout",
     "output_type": "stream",
     "text": [
      "Columns:  111\n",
      "Rows:  39717\n",
      "Columns  and datatype: id                              int64\n",
      "member_id                       int64\n",
      "loan_amnt                       int64\n",
      "funded_amnt                     int64\n",
      "funded_amnt_inv               float64\n",
      "                               ...   \n",
      "tax_liens                     float64\n",
      "tot_hi_cred_lim               float64\n",
      "total_bal_ex_mort             float64\n",
      "total_bc_limit                float64\n",
      "total_il_high_credit_limit    float64\n",
      "Length: 111, dtype: object\n"
     ]
    }
   ],
   "source": [
    "# Print Column count \n",
    "print(\"Columns: \", len(df.columns))\n",
    "\n",
    "# Print row count \n",
    "print(\"Rows: \", len(df))\n",
    "\n",
    "print(\"Columns  and datatype:\"  , df.dtypes)\n"
   ]
  },
  {
   "cell_type": "markdown",
   "metadata": {},
   "source": [
    "#### Observation:There are no duplicate and empty rows in loan dataset"
   ]
  },
  {
   "cell_type": "code",
   "execution_count": 70,
   "metadata": {},
   "outputs": [
    {
     "name": "stdout",
     "output_type": "stream",
     "text": [
      "Number of empty Columns:\n",
      "54\n",
      "id                            False\n",
      "member_id                     False\n",
      "loan_amnt                     False\n",
      "funded_amnt                   False\n",
      "funded_amnt_inv               False\n",
      "                              ...  \n",
      "tax_liens                     False\n",
      "tot_hi_cred_lim                True\n",
      "total_bal_ex_mort              True\n",
      "total_bc_limit                 True\n",
      "total_il_high_credit_limit     True\n",
      "Length: 111, dtype: bool\n"
     ]
    }
   ],
   "source": [
    "# sum it up to check how many columns have all missing values\n",
    "print('Number of empty Columns:')\n",
    "print(df.isnull().all(axis=0).sum())\n",
    "\n",
    "empty_column = df.isnull().all(axis=0)\n",
    "\n",
    "# Filter DataFrame based on values in the second column (index 1)\n",
    "print(empty_column)"
   ]
  },
  {
   "cell_type": "code",
   "execution_count": 71,
   "metadata": {},
   "outputs": [
    {
     "name": "stdout",
     "output_type": "stream",
     "text": [
      "Number of empty Rows:\n",
      "0\n",
      "Null Count:  id                                0\n",
      "member_id                         0\n",
      "loan_amnt                         0\n",
      "funded_amnt                       0\n",
      "funded_amnt_inv                   0\n",
      "                              ...  \n",
      "tax_liens                        39\n",
      "tot_hi_cred_lim               39717\n",
      "total_bal_ex_mort             39717\n",
      "total_bc_limit                39717\n",
      "total_il_high_credit_limit    39717\n",
      "Length: 111, dtype: int64\n",
      "Shape :  (39717, 111)\n",
      "Count of Null: id                            39717\n",
      "member_id                     39717\n",
      "loan_amnt                     39717\n",
      "funded_amnt                   39717\n",
      "funded_amnt_inv               39717\n",
      "                              ...  \n",
      "tax_liens                     39678\n",
      "tot_hi_cred_lim                   0\n",
      "total_bal_ex_mort                 0\n",
      "total_bc_limit                    0\n",
      "total_il_high_credit_limit        0\n",
      "Length: 111, dtype: int64\n",
      "Missing VAlues: id                                0\n",
      "member_id                         0\n",
      "loan_amnt                         0\n",
      "funded_amnt                       0\n",
      "funded_amnt_inv                   0\n",
      "                              ...  \n",
      "tax_liens                        39\n",
      "tot_hi_cred_lim               39717\n",
      "total_bal_ex_mort             39717\n",
      "total_bc_limit                39717\n",
      "total_il_high_credit_limit    39717\n",
      "Length: 111, dtype: int64\n"
     ]
    }
   ],
   "source": [
    "print('Number of empty Rows:')\n",
    "print(df.isnull().all(axis=1).sum())\n",
    "\n",
    "\n",
    "# Data Acquisition and Preprocessing\n",
    "\n",
    "#Check the values in df\n",
    "print(\"Null Count: \", df.isnull().sum())\n",
    "\n",
    "print(\"Shape : \", df.shape)\n",
    "\n",
    "print(\"Count of Null:\" , df.notna().sum())\n",
    "\n",
    "print(\"Missing VAlues:\" , df.isna().sum())\n"
   ]
  },
  {
   "cell_type": "markdown",
   "metadata": {},
   "source": [
    "## EDA - Pandas Profiling"
   ]
  },
  {
   "cell_type": "code",
   "execution_count": null,
   "metadata": {},
   "outputs": [],
   "source": [
    "profile = ProfileReport(df.head(1000))\n",
    "profile.to_file(file_path+ 'loan.html')"
   ]
  },
  {
   "cell_type": "markdown",
   "metadata": {},
   "source": [
    "### Display Values in each Object"
   ]
  },
  {
   "cell_type": "code",
   "execution_count": null,
   "metadata": {},
   "outputs": [],
   "source": [
    "# How many values available in each object('categorical')\n",
    "def df_obj_count(df ,feature_name):    \n",
    "    if df[feature_name].dtype ==  'object':\n",
    "        print(\"Column Name :\" , df[feature_name].value_counts())\n",
    "\n",
    "for obj in df.columns:\n",
    "    if df[obj].dtype == 'object':\n",
    "        df_obj_count(df, str(obj))"
   ]
  },
  {
   "cell_type": "code",
   "execution_count": null,
   "metadata": {},
   "outputs": [],
   "source": [
    "# Remove columns where object is NA\n",
    "df_removed = df.drop(['mths_since_last_record','next_pymnt_d','id','pymnt_plan','initial_list_status','collections_12_mths_ex_med','policy_code','application_type','chargeoff_within_12_mths','tax_liens','url','mths_since_last_major_derog','annual_inc_joint','dti_joint','verification_status_joint','acc_now_delinq','tot_coll_amt','tot_cur_bal','open_acc_6m','open_il_6m','open_il_12m','open_il_24m','mths_since_rcnt_il','total_bal_il','il_util','open_rv_12m','open_rv_24m','max_bal_bc','all_util','total_rev_hi_lim','inq_fi','total_cu_tl','inq_last_12m','acc_open_past_24mths','avg_cur_bal','bc_open_to_buy','bc_util','delinq_amnt','mo_sin_old_il_acct','mo_sin_old_rev_tl_op','mo_sin_rcnt_rev_tl_op','mo_sin_rcnt_tl','mort_acc','mths_since_recent_bc','mths_since_recent_bc_dlq','mths_since_recent_inq','mths_since_recent_revol_delinq','num_accts_ever_120_pd','num_actv_bc_tl','num_actv_rev_tl','num_bc_sats','num_bc_tl','num_il_tl','num_op_rev_tl','num_rev_accts','num_rev_tl_bal_gt_0','num_sats','num_tl_120dpd_2m','num_tl_30dpd','num_tl_90g_dpd_24m','num_tl_op_past_12m','pct_tl_nvr_dlq','percent_bc_gt_75','tot_hi_cred_lim','total_bal_ex_mort','total_bc_limit','total_bc_limit','total_il_high_credit_limit'], axis=1)\n",
    "\n",
    "#df_removed.fillna(df_removed.mean(), inplace=True)\n",
    "\n",
    "#df_removed.to_csv('C:\\\\Users\\\\AnandThirurangaruban\\\\Desktop\\\\PGPAIML\\\\Case Study\\\\cleaneddata.csv' , index=False)\n",
    "\n",
    "# df.drop(columns =['C', 'D'])"
   ]
  },
  {
   "cell_type": "code",
   "execution_count": null,
   "metadata": {},
   "outputs": [],
   "source": [
    "# To observe it manually , i'm loading the data in csv\n",
    "df_removed.to_csv('cleaneddata.csv' , index=False)"
   ]
  },
  {
   "cell_type": "code",
   "execution_count": null,
   "metadata": {},
   "outputs": [],
   "source": [
    "# Data Acquisition and Preprocessing\n",
    "\n",
    "print(\"Column Name :\" , df_removed.columns)\n",
    "\n",
    "print(\"Null Count: \", df_removed.isnull().sum())\n",
    "\n",
    "print(\"Rows: \", len(df_removed))\n",
    "\n",
    "print(\"Columns: \", len(df_removed.columns))\n",
    "\n",
    "print(\"Shape : \", df_removed.shape)\n",
    "\n",
    "print(\"Info :\"  ,df_removed.info())\n",
    "\n",
    "print(\"Count of Null:\" ,df_removed.isna().sum()) \n",
    "\n",
    "print(\"Count of Null:\" , df_removed.notna().sum())\n",
    "\n",
    "print(\"Missing VAlues:\" , df_removed.isna().sum())\n"
   ]
  },
  {
   "cell_type": "code",
   "execution_count": null,
   "metadata": {},
   "outputs": [],
   "source": [
    "# Check purpose of loan in total loans issued\n",
    "(df.purpose.value_counts()*100)/len(df)"
   ]
  },
  {
   "cell_type": "markdown",
   "metadata": {},
   "source": [
    "## <u>Target Variable</u>  [Target variable is the main focus of a statistical analysis or machine learning model]\n",
    "### The target variable is <font color='Red'>loan_Status</font>\n",
    "The objective is to determine how data is used to minimise the risk of losing money while lending to customers. Hence this particular variable <font color='red'>'loan_status' </font> is the target variable."
   ]
  },
  {
   "cell_type": "code",
   "execution_count": null,
   "metadata": {},
   "outputs": [],
   "source": [
    "#pulling out object dtype columns to see which columns require transformation\n",
    "df.select_dtypes(object).head()\n",
    "\n",
    "#df.select_dtypes(int).head()"
   ]
  },
  {
   "cell_type": "markdown",
   "metadata": {},
   "source": [
    "Columns such as <font color='red'>term, int_rate, emp_length</font> must be converted to <font color='green'>float type</font>. Also we need to convert <font color='red'>issue_d</font> from object type to <font color='green'>date type</font>."
   ]
  },
  {
   "cell_type": "code",
   "execution_count": null,
   "metadata": {},
   "outputs": [],
   "source": [
    "#first removing the unwanted character from the string, then casting the string object as float\n",
    "df_removed['term']=df_removed['term'].replace('[(<)a-zA-Z(%+)-]','',regex=True).astype(float)\n",
    "df_removed['int_rate']=df_removed['int_rate'].replace('[(<)a-zA-Z(%+)-]','',regex=True).astype(float)\n",
    "df_removed['emp_length']=df_removed['emp_length'].replace('[(<)a-zA-Z(%+)-]','',regex=True).astype(float)"
   ]
  },
  {
   "cell_type": "markdown",
   "metadata": {},
   "source": [
    "### Univariate Analysis - Numerical Variables"
   ]
  },
  {
   "cell_type": "code",
   "execution_count": null,
   "metadata": {},
   "outputs": [],
   "source": [
    "plt.figure(figsize=(18, 6))\n",
    "plt.subplot(1, 2, 1)\n",
    "\n",
    "# Convert infinite values to NaN before operating\n",
    "with pd.option_context('mode.use_inf_as_na', True):\n",
    "    # Your operations on the DataFrame here\n",
    "    df_removed.dropna(inplace=True)  # For example, drop rows with NaN values\n",
    "\n",
    "df_removed['annual_inc'].hist(bins=10)\n",
    "plt.title(\"Loan Amount \")\n",
    "\n",
    "plt.subplot(1, 2, 2)\n",
    "plt.grid()\n",
    "plt.hist(df_removed['loan_amnt'])\n",
    "plt.title(\"Log Loan Amount \")\n",
    "\n",
    "plt.show()  \n",
    "\n",
    "# Lets see distribution of three loan amount fields using distribution plot.\n",
    "plt.figure(figsize=(15,8),facecolor='b')\n",
    "sns.set_style(\"dark\")\n",
    "# subplot 1\n",
    "plt.subplot(2, 3, 1)\n",
    "\n",
    "\n",
    "# Custom color palette\n",
    "colors = ['red', 'green', 'blue', 'orange', 'purple', 'cyan']\n",
    "\n",
    "# Plot histogram with different colors\n",
    "\n",
    "#plt.show()\n",
    "\n",
    "\n",
    "viz = sns.histplot(df['loan_amnt'], color='lightblue', edgecolor='black',palette=colors, bins=10,kde=True)  # Use a custom color palette,kde=True)\n",
    "viz.set_title('Loan Amount - Distribution Plot',fontsize=14,color='w')\n",
    "viz.set_xlabel('Loan Amount',fontsize=14,color='w')\n",
    "viz.set_facecolor('black') \n",
    "\n",
    "\n",
    "# subplot 2\n",
    "plt.subplot(2, 3, 2)\n",
    "viz = sns.histplot(df['funded_amnt'], color='lightblue', edgecolor='black',palette=colors, bins=10,kde=True) \n",
    "viz.set_title('Fund Amount - Distribution Plot',fontsize=14,color='w')\n",
    "viz.set_xlabel('Fund Amount',fontsize=14,color='w')\n",
    "viz.set_facecolor('black') \n",
    "\n",
    "# subplot 2\n",
    "plt.subplot(2, 3, 3)\n",
    "viz = sns.histplot(df['funded_amnt_inv'], color='lightblue', edgecolor='black',palette=colors, bins=10,kde=True) \n",
    "viz.set_title('Fund Amount Inv. - Distribution Plot',fontsize=14,color='w')\n",
    "viz.set_xlabel('Fund Amount Inv.',fontsize=14,color='w')\n",
    "viz.set_facecolor('black') \n",
    "plt.show()"
   ]
  },
  {
   "cell_type": "code",
   "execution_count": 81,
   "metadata": {},
   "outputs": [],
   "source": [
    "plt.figure(figsize=(14,8),facecolor='b')\n",
    "sns.set_style(\"dark\")\n",
    "plot = sns.countplot(y=\"purpose\",data=df_removed,hue='loan_status',palette='GnBu_d')\n",
    "plot.set_title('Purpose Of Loan',fontsize=14,color='w')\n",
    "plot.set_ylabel('Purpose Of Loan',fontsize=14,color = 'w')\n",
    "plot.set_xlabel('Loan Application Count',fontsize=14,color = 'w')      \n",
    "plt.show()"
   ]
  },
  {
   "cell_type": "code",
   "execution_count": 90,
   "metadata": {},
   "outputs": [],
   "source": [
    "df_removed.drop(columns=['funded_amnt','funded_amnt_inv'],inplace=True)\n",
    "\n",
    "df_removed.loan_status=df.loan_status.apply(lambda x: 0 if x[0]=='F' else 1)\n",
    "\n"
   ]
  },
  {
   "cell_type": "code",
   "execution_count": 91,
   "metadata": {},
   "outputs": [],
   "source": [
    "#here we're plotting bar graph for loan_status and grade\n",
    "plt.title('loan_status vs grade \\n', fontdict={'fontsize':20,'color':'r'})\n",
    "sns.set_style('darkgrid')\n",
    "sns.barplot(x=df_removed['grade'].sort_values(),y=df_removed['loan_status'])\n",
    "plt.show()"
   ]
  },
  {
   "cell_type": "code",
   "execution_count": 92,
   "metadata": {},
   "outputs": [
    {
     "ename": "TypeError",
     "evalue": "Neither the `x` nor `y` variable appears to be numeric.",
     "output_type": "error",
     "traceback": [
      "\u001b[1;31m---------------------------------------------------------------------------\u001b[0m",
      "\u001b[1;31mTypeError\u001b[0m                                 Traceback (most recent call last)",
      "Cell \u001b[1;32mIn[92], line 4\u001b[0m\n\u001b[0;32m      2\u001b[0m plt\u001b[38;5;241m.\u001b[39mtitle(\u001b[38;5;124m'\u001b[39m\u001b[38;5;124mloan_status vs sub_grade \u001b[39m\u001b[38;5;130;01m\\n\u001b[39;00m\u001b[38;5;124m'\u001b[39m, fontdict\u001b[38;5;241m=\u001b[39m{\u001b[38;5;124m'\u001b[39m\u001b[38;5;124mfontsize\u001b[39m\u001b[38;5;124m'\u001b[39m:\u001b[38;5;241m20\u001b[39m,\u001b[38;5;124m'\u001b[39m\u001b[38;5;124mcolor\u001b[39m\u001b[38;5;124m'\u001b[39m:\u001b[38;5;124m'\u001b[39m\u001b[38;5;124mr\u001b[39m\u001b[38;5;124m'\u001b[39m})\n\u001b[0;32m      3\u001b[0m plt\u001b[38;5;241m.\u001b[39mxticks(rotation\u001b[38;5;241m=\u001b[39m\u001b[38;5;241m90\u001b[39m)\n\u001b[1;32m----> 4\u001b[0m \u001b[43msns\u001b[49m\u001b[38;5;241;43m.\u001b[39;49m\u001b[43mbarplot\u001b[49m\u001b[43m(\u001b[49m\u001b[43mx\u001b[49m\u001b[38;5;241;43m=\u001b[39;49m\u001b[43mdf\u001b[49m\u001b[43m[\u001b[49m\u001b[38;5;124;43m'\u001b[39;49m\u001b[38;5;124;43msub_grade\u001b[39;49m\u001b[38;5;124;43m'\u001b[39;49m\u001b[43m]\u001b[49m\u001b[38;5;241;43m.\u001b[39;49m\u001b[43msort_values\u001b[49m\u001b[43m(\u001b[49m\u001b[43m)\u001b[49m\u001b[43m,\u001b[49m\u001b[43my\u001b[49m\u001b[38;5;241;43m=\u001b[39;49m\u001b[43mdf\u001b[49m\u001b[43m[\u001b[49m\u001b[38;5;124;43m'\u001b[39;49m\u001b[38;5;124;43mloan_status\u001b[39;49m\u001b[38;5;124;43m'\u001b[39;49m\u001b[43m]\u001b[49m\u001b[43m)\u001b[49m\n\u001b[0;32m      5\u001b[0m plt\u001b[38;5;241m.\u001b[39mshow()\n",
      "File \u001b[1;32mc:\\python3.9\\lib\\site-packages\\seaborn\\categorical.py:2755\u001b[0m, in \u001b[0;36mbarplot\u001b[1;34m(data, x, y, hue, order, hue_order, estimator, errorbar, n_boot, units, seed, orient, color, palette, saturation, width, errcolor, errwidth, capsize, dodge, ci, ax, **kwargs)\u001b[0m\n\u001b[0;32m   2752\u001b[0m \u001b[38;5;28;01mif\u001b[39;00m estimator \u001b[38;5;129;01mis\u001b[39;00m \u001b[38;5;28mlen\u001b[39m:\n\u001b[0;32m   2753\u001b[0m     estimator \u001b[38;5;241m=\u001b[39m \u001b[38;5;124m\"\u001b[39m\u001b[38;5;124msize\u001b[39m\u001b[38;5;124m\"\u001b[39m\n\u001b[1;32m-> 2755\u001b[0m plotter \u001b[38;5;241m=\u001b[39m \u001b[43m_BarPlotter\u001b[49m\u001b[43m(\u001b[49m\u001b[43mx\u001b[49m\u001b[43m,\u001b[49m\u001b[43m \u001b[49m\u001b[43my\u001b[49m\u001b[43m,\u001b[49m\u001b[43m \u001b[49m\u001b[43mhue\u001b[49m\u001b[43m,\u001b[49m\u001b[43m \u001b[49m\u001b[43mdata\u001b[49m\u001b[43m,\u001b[49m\u001b[43m \u001b[49m\u001b[43morder\u001b[49m\u001b[43m,\u001b[49m\u001b[43m \u001b[49m\u001b[43mhue_order\u001b[49m\u001b[43m,\u001b[49m\n\u001b[0;32m   2756\u001b[0m \u001b[43m                      \u001b[49m\u001b[43mestimator\u001b[49m\u001b[43m,\u001b[49m\u001b[43m \u001b[49m\u001b[43merrorbar\u001b[49m\u001b[43m,\u001b[49m\u001b[43m \u001b[49m\u001b[43mn_boot\u001b[49m\u001b[43m,\u001b[49m\u001b[43m \u001b[49m\u001b[43munits\u001b[49m\u001b[43m,\u001b[49m\u001b[43m \u001b[49m\u001b[43mseed\u001b[49m\u001b[43m,\u001b[49m\n\u001b[0;32m   2757\u001b[0m \u001b[43m                      \u001b[49m\u001b[43morient\u001b[49m\u001b[43m,\u001b[49m\u001b[43m \u001b[49m\u001b[43mcolor\u001b[49m\u001b[43m,\u001b[49m\u001b[43m \u001b[49m\u001b[43mpalette\u001b[49m\u001b[43m,\u001b[49m\u001b[43m \u001b[49m\u001b[43msaturation\u001b[49m\u001b[43m,\u001b[49m\n\u001b[0;32m   2758\u001b[0m \u001b[43m                      \u001b[49m\u001b[43mwidth\u001b[49m\u001b[43m,\u001b[49m\u001b[43m \u001b[49m\u001b[43merrcolor\u001b[49m\u001b[43m,\u001b[49m\u001b[43m \u001b[49m\u001b[43merrwidth\u001b[49m\u001b[43m,\u001b[49m\u001b[43m \u001b[49m\u001b[43mcapsize\u001b[49m\u001b[43m,\u001b[49m\u001b[43m \u001b[49m\u001b[43mdodge\u001b[49m\u001b[43m)\u001b[49m\n\u001b[0;32m   2760\u001b[0m \u001b[38;5;28;01mif\u001b[39;00m ax \u001b[38;5;129;01mis\u001b[39;00m \u001b[38;5;28;01mNone\u001b[39;00m:\n\u001b[0;32m   2761\u001b[0m     ax \u001b[38;5;241m=\u001b[39m plt\u001b[38;5;241m.\u001b[39mgca()\n",
      "File \u001b[1;32mc:\\python3.9\\lib\\site-packages\\seaborn\\categorical.py:1530\u001b[0m, in \u001b[0;36m_BarPlotter.__init__\u001b[1;34m(self, x, y, hue, data, order, hue_order, estimator, errorbar, n_boot, units, seed, orient, color, palette, saturation, width, errcolor, errwidth, capsize, dodge)\u001b[0m\n\u001b[0;32m   1525\u001b[0m \u001b[38;5;28;01mdef\u001b[39;00m \u001b[38;5;21m__init__\u001b[39m(\u001b[38;5;28mself\u001b[39m, x, y, hue, data, order, hue_order,\n\u001b[0;32m   1526\u001b[0m              estimator, errorbar, n_boot, units, seed,\n\u001b[0;32m   1527\u001b[0m              orient, color, palette, saturation, width,\n\u001b[0;32m   1528\u001b[0m              errcolor, errwidth, capsize, dodge):\n\u001b[0;32m   1529\u001b[0m \u001b[38;5;250m    \u001b[39m\u001b[38;5;124;03m\"\"\"Initialize the plotter.\"\"\"\u001b[39;00m\n\u001b[1;32m-> 1530\u001b[0m     \u001b[38;5;28;43mself\u001b[39;49m\u001b[38;5;241;43m.\u001b[39;49m\u001b[43mestablish_variables\u001b[49m\u001b[43m(\u001b[49m\u001b[43mx\u001b[49m\u001b[43m,\u001b[49m\u001b[43m \u001b[49m\u001b[43my\u001b[49m\u001b[43m,\u001b[49m\u001b[43m \u001b[49m\u001b[43mhue\u001b[49m\u001b[43m,\u001b[49m\u001b[43m \u001b[49m\u001b[43mdata\u001b[49m\u001b[43m,\u001b[49m\u001b[43m \u001b[49m\u001b[43morient\u001b[49m\u001b[43m,\u001b[49m\n\u001b[0;32m   1531\u001b[0m \u001b[43m                             \u001b[49m\u001b[43morder\u001b[49m\u001b[43m,\u001b[49m\u001b[43m \u001b[49m\u001b[43mhue_order\u001b[49m\u001b[43m,\u001b[49m\u001b[43m \u001b[49m\u001b[43munits\u001b[49m\u001b[43m)\u001b[49m\n\u001b[0;32m   1532\u001b[0m     \u001b[38;5;28mself\u001b[39m\u001b[38;5;241m.\u001b[39mestablish_colors(color, palette, saturation)\n\u001b[0;32m   1533\u001b[0m     \u001b[38;5;28mself\u001b[39m\u001b[38;5;241m.\u001b[39mestimate_statistic(estimator, errorbar, n_boot, seed)\n",
      "File \u001b[1;32mc:\\python3.9\\lib\\site-packages\\seaborn\\categorical.py:544\u001b[0m, in \u001b[0;36m_CategoricalPlotter.establish_variables\u001b[1;34m(self, x, y, hue, data, orient, order, hue_order, units)\u001b[0m\n\u001b[0;32m    541\u001b[0m         \u001b[38;5;28;01mraise\u001b[39;00m \u001b[38;5;167;01mValueError\u001b[39;00m(err)\n\u001b[0;32m    543\u001b[0m \u001b[38;5;66;03m# Figure out the plotting orientation\u001b[39;00m\n\u001b[1;32m--> 544\u001b[0m orient \u001b[38;5;241m=\u001b[39m \u001b[43minfer_orient\u001b[49m\u001b[43m(\u001b[49m\n\u001b[0;32m    545\u001b[0m \u001b[43m    \u001b[49m\u001b[43mx\u001b[49m\u001b[43m,\u001b[49m\u001b[43m \u001b[49m\u001b[43my\u001b[49m\u001b[43m,\u001b[49m\u001b[43m \u001b[49m\u001b[43morient\u001b[49m\u001b[43m,\u001b[49m\u001b[43m \u001b[49m\u001b[43mrequire_numeric\u001b[49m\u001b[38;5;241;43m=\u001b[39;49m\u001b[38;5;28;43mself\u001b[39;49m\u001b[38;5;241;43m.\u001b[39;49m\u001b[43mrequire_numeric\u001b[49m\n\u001b[0;32m    546\u001b[0m \u001b[43m\u001b[49m\u001b[43m)\u001b[49m\n\u001b[0;32m    548\u001b[0m \u001b[38;5;66;03m# Option 2a:\u001b[39;00m\n\u001b[0;32m    549\u001b[0m \u001b[38;5;66;03m# We are plotting a single set of data\u001b[39;00m\n\u001b[0;32m    550\u001b[0m \u001b[38;5;66;03m# ------------------------------------\u001b[39;00m\n\u001b[0;32m    551\u001b[0m \u001b[38;5;28;01mif\u001b[39;00m x \u001b[38;5;129;01mis\u001b[39;00m \u001b[38;5;28;01mNone\u001b[39;00m \u001b[38;5;129;01mor\u001b[39;00m y \u001b[38;5;129;01mis\u001b[39;00m \u001b[38;5;28;01mNone\u001b[39;00m:\n\u001b[0;32m    552\u001b[0m \n\u001b[0;32m    553\u001b[0m     \u001b[38;5;66;03m# Determine where the data are\u001b[39;00m\n",
      "File \u001b[1;32mc:\\python3.9\\lib\\site-packages\\seaborn\\_oldcore.py:1632\u001b[0m, in \u001b[0;36minfer_orient\u001b[1;34m(x, y, orient, require_numeric)\u001b[0m\n\u001b[0;32m   1630\u001b[0m \u001b[38;5;28;01melif\u001b[39;00m require_numeric \u001b[38;5;129;01mand\u001b[39;00m \u001b[38;5;124m\"\u001b[39m\u001b[38;5;124mnumeric\u001b[39m\u001b[38;5;124m\"\u001b[39m \u001b[38;5;129;01mnot\u001b[39;00m \u001b[38;5;129;01min\u001b[39;00m (x_type, y_type):\n\u001b[0;32m   1631\u001b[0m     err \u001b[38;5;241m=\u001b[39m \u001b[38;5;124m\"\u001b[39m\u001b[38;5;124mNeither the `x` nor `y` variable appears to be numeric.\u001b[39m\u001b[38;5;124m\"\u001b[39m\n\u001b[1;32m-> 1632\u001b[0m     \u001b[38;5;28;01mraise\u001b[39;00m \u001b[38;5;167;01mTypeError\u001b[39;00m(err)\n\u001b[0;32m   1634\u001b[0m \u001b[38;5;28;01melse\u001b[39;00m:\n\u001b[0;32m   1635\u001b[0m     \u001b[38;5;28;01mreturn\u001b[39;00m \u001b[38;5;124m\"\u001b[39m\u001b[38;5;124mv\u001b[39m\u001b[38;5;124m\"\u001b[39m\n",
      "\u001b[1;31mTypeError\u001b[0m: Neither the `x` nor `y` variable appears to be numeric."
     ]
    }
   ],
   "source": [
    "#here we're plotting bar graph for loan_status and sub_grade\n",
    "plt.title('loan_status vs sub_grade \\n', fontdict={'fontsize':20,'color':'r'})\n",
    "plt.xticks(rotation=90)\n",
    "sns.barplot(x=df_removed['sub_grade'].sort_values(),y=df_removed['loan_status'])\n",
    "plt.show()"
   ]
  }
 ],
 "metadata": {
  "kernelspec": {
   "display_name": "Python 3",
   "language": "python",
   "name": "python3"
  },
  "language_info": {
   "codemirror_mode": {
    "name": "ipython",
    "version": 3
   },
   "file_extension": ".py",
   "mimetype": "text/x-python",
   "name": "python",
   "nbconvert_exporter": "python",
   "pygments_lexer": "ipython3",
   "version": "3.9.0"
  }
 },
 "nbformat": 4,
 "nbformat_minor": 2
}
